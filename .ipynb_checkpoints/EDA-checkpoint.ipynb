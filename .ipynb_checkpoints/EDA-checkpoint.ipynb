{
 "cells": [
  {
   "cell_type": "code",
   "execution_count": 1,
   "metadata": {
    "id": "yIzSU2qSf2Hb"
   },
   "outputs": [],
   "source": [
    "import pandas as pd\n",
    "import numpy as np\n",
    "import matplotlib.pyplot as plt\n",
    "from sklearn.preprocessing import StandardScaler,OneHotEncoder,LabelEncoder\n",
    "from sklearn.svm import SVR\n",
    "import seaborn as sns"
   ]
  },
  {
   "cell_type": "code",
   "execution_count": null,
   "metadata": {
    "colab": {
     "base_uri": "https://localhost:8080/",
     "height": 309
    },
    "id": "Kuw9xEamf5-e",
    "outputId": "cd3e4209-7722-41e5-9f2a-bc5cf34e400b"
   },
   "outputs": [],
   "source": [
    "df=pd.read_csv('WA_Fn-UseC_-HR-Employee-Attrition.csv')\n",
    "df.head()"
   ]
  },
  {
   "cell_type": "code",
   "execution_count": null,
   "metadata": {
    "colab": {
     "base_uri": "https://localhost:8080/",
     "height": 317
    },
    "id": "dkwNQcMcf9Vg",
    "outputId": "dd0a1284-60aa-426d-cd97-fade5f3dacaa"
   },
   "outputs": [],
   "source": [
    "df.describe()"
   ]
  },
  {
   "cell_type": "code",
   "execution_count": null,
   "metadata": {
    "colab": {
     "base_uri": "https://localhost:8080/"
    },
    "id": "Oiy1Je86f_IS",
    "outputId": "f5f6b7df-6798-4b40-af75-f5e40722bfb7"
   },
   "outputs": [],
   "source": [
    "df.info()"
   ]
  },
  {
   "cell_type": "code",
   "execution_count": null,
   "metadata": {
    "colab": {
     "base_uri": "https://localhost:8080/"
    },
    "id": "cePS1J2Vf_nv",
    "outputId": "c66121ec-6925-4201-9d26-89b64ec9bd23"
   },
   "outputs": [],
   "source": [
    "#check unique values in the column\n",
    "print(df.apply(lambda col: col.unique().sum()))"
   ]
  },
  {
   "cell_type": "code",
   "execution_count": null,
   "metadata": {
    "colab": {
     "base_uri": "https://localhost:8080/",
     "height": 1000
    },
    "id": "gowjOG2Dgeu9",
    "outputId": "88f56b7a-f28c-4023-f881-9c538dc69ecc"
   },
   "outputs": [],
   "source": [
    "cat_df=df.select_dtypes(include='object')\n",
    "\n",
    "for i in cat_df:\n",
    "    plt.figure(figsize=(15, 15))\n",
    "    sns.catplot(data=df,x=i,kind='count')"
   ]
  },
  {
   "cell_type": "code",
   "execution_count": null,
   "metadata": {
    "colab": {
     "base_uri": "https://localhost:8080/",
     "height": 1000
    },
    "id": "iGfWmPtOgEQ9",
    "outputId": "fbfb51e4-0ce3-4496-8476-065500a1b11f"
   },
   "outputs": [],
   "source": [
    "#plot distributions\n",
    "k=1\n",
    "plt.figure(figsize=(40, 40))\n",
    "for col in df:\n",
    "  if col==\"Attrition\":\n",
    "    continue\n",
    "  yes = df[df['Attrition'] == 'Yes'][col]\n",
    "  no = df[df['Attrition'] == 'No'][col]\n",
    "  plt.subplot(6, 6, k)\n",
    "  plt.hist(yes, bins=25, alpha=0.5, label='yes', color='b')\n",
    "  plt.hist(no, bins=25, alpha=0.5, label='no', color='r')\n",
    "  plt.legend(loc='upper right')\n",
    "  plt.title(col)\n",
    "  k+=1"
   ]
  },
  {
   "cell_type": "code",
   "execution_count": null,
   "metadata": {
    "colab": {
     "base_uri": "https://localhost:8080/",
     "height": 386
    },
    "id": "vcQqHnRygISM",
    "outputId": "f13973ac-b292-4339-d6e2-d289070f7947"
   },
   "outputs": [],
   "source": [
    "sns.catplot(data=df,x=\"Attrition\",kind='count')"
   ]
  },
  {
   "cell_type": "code",
   "execution_count": null,
   "metadata": {
    "colab": {
     "base_uri": "https://localhost:8080/",
     "height": 248
    },
    "id": "VQqRIR6XgNNv",
    "outputId": "91a9a075-06b5-4ab1-9c16-5152c6bd164e"
   },
   "outputs": [],
   "source": [
    "# colors = sns.color_palette(\"husl\", 2)\n",
    "plt.pie(df['Attrition'].value_counts(),labels=['No','Yes'],autopct='%.0f%%')\n",
    "plt.show()"
   ]
  },
  {
   "cell_type": "code",
   "execution_count": null,
   "metadata": {
    "colab": {
     "base_uri": "https://localhost:8080/",
     "height": 309
    },
    "id": "KI1ouaYJgPv5",
    "outputId": "f8cf0e5c-0296-4d7e-84a8-a2143fb763aa"
   },
   "outputs": [],
   "source": [
    "table=pd.crosstab(df.JobSatisfaction, df.Attrition)\n",
    "table.div(table.sum(1).astype(float), axis=0).plot(kind='bar', stacked=True)\n",
    "plt.title('Stacked Bar Chart of Job satisfaction vs attrition')"
   ]
  },
  {
   "cell_type": "code",
   "execution_count": null,
   "metadata": {
    "colab": {
     "base_uri": "https://localhost:8080/",
     "height": 318
    },
    "id": "-2crun9dgROY",
    "outputId": "c8a3f699-bb6d-4e7a-f57a-56dcd1a0e331"
   },
   "outputs": [],
   "source": [
    "table=pd.crosstab(df.OverTime, df.Attrition)\n",
    "table.div(table.sum(1).astype(float), axis=0).plot(kind='bar', stacked=True)\n",
    "plt.title('Stacked Bar Chart of Overtime vs attrition')"
   ]
  },
  {
   "cell_type": "code",
   "execution_count": null,
   "metadata": {
    "colab": {
     "base_uri": "https://localhost:8080/",
     "height": 390
    },
    "id": "QmYEDLs0gS51",
    "outputId": "2221dfc7-7e9a-4b67-a1c5-53583979133a"
   },
   "outputs": [],
   "source": [
    "table=pd.crosstab(df.BusinessTravel, df.Attrition)\n",
    "table.div(table.sum(1).astype(float), axis=0).plot(kind='bar', stacked=True)\n",
    "plt.title('Stacked Bar Chart of Business Travel vs attrition')"
   ]
  },
  {
   "cell_type": "code",
   "execution_count": null,
   "metadata": {
    "colab": {
     "base_uri": "https://localhost:8080/",
     "height": 315
    },
    "id": "JmdMkpDdgUg8",
    "outputId": "e794ba34-05cf-444f-de90-636653bba03b"
   },
   "outputs": [],
   "source": [
    "table=pd.crosstab(df.YearsSinceLastPromotion, df.Attrition)\n",
    "table.div(table.sum(1).astype(float), axis=0).plot(kind='bar', stacked=True)\n",
    "plt.title('Stacked Bar Chart of Business Travel vs attrition')"
   ]
  },
  {
   "cell_type": "code",
   "execution_count": null,
   "metadata": {
    "colab": {
     "base_uri": "https://localhost:8080/",
     "height": 1000
    },
    "id": "tm6FAM0TgWBv",
    "outputId": "9e9a5a01-43c7-47aa-a387-5decfb2124e6"
   },
   "outputs": [],
   "source": [
    "f,ax=plt.subplots(figsize=(20,20))\n",
    "sns.heatmap(df.corr(),annot=True,linewidth=.5,fmt='.1f')"
   ]
  },
  {
   "cell_type": "code",
   "execution_count": null,
   "metadata": {
    "colab": {
     "base_uri": "https://localhost:8080/",
     "height": 528
    },
    "id": "u7KDYhgCgZdB",
    "outputId": "7db8e9b5-5f04-4cc4-f921-0ba48f6ee27a"
   },
   "outputs": [],
   "source": [
    "a4_dims = (25, 8.27)\n",
    "fig, ax = plt.subplots(figsize=a4_dims)\n",
    "sns.countplot(data=df,x=\"JobRole\",hue=\"Attrition\", ax=ax )"
   ]
  }
 ],
 "metadata": {
  "colab": {
   "name": "EDA.ipynb",
   "provenance": []
  },
  "kernelspec": {
   "display_name": "Python 3 (ipykernel)",
   "language": "python",
   "name": "python3"
  },
  "language_info": {
   "codemirror_mode": {
    "name": "ipython",
    "version": 3
   },
   "file_extension": ".py",
   "mimetype": "text/x-python",
   "name": "python",
   "nbconvert_exporter": "python",
   "pygments_lexer": "ipython3",
   "version": "3.11.2"
  }
 },
 "nbformat": 4,
 "nbformat_minor": 1
}
